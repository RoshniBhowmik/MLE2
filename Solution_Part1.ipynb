{
 "cells": [
  {
   "cell_type": "code",
   "execution_count": 95,
   "metadata": {},
   "outputs": [
    {
     "name": "stdout",
     "output_type": "stream",
     "text": [
      "The autoreload extension is already loaded. To reload it, use:\n",
      "  %reload_ext autoreload\n"
     ]
    }
   ],
   "source": [
    "%load_ext autoreload\n",
    "%autoreload 2"
   ]
  },
  {
   "cell_type": "code",
   "execution_count": 96,
   "metadata": {},
   "outputs": [
    {
     "name": "stdout",
     "output_type": "stream",
     "text": [
      "Wall time: 0 ns\n"
     ]
    }
   ],
   "source": [
    "%%time\n",
    "\n",
    "# Third-party imports\n",
    "import os.path as op\n",
    "import pandas as pd\n",
    "import great_expectations as ge\n",
    "\n",
    "# Project imports\n",
    "from ta_lib.core.api import display_as_tabs, initialize_environment\n",
    "\n",
    "# Initialization\n",
    "initialize_environment(debug=False, hide_warnings=True)"
   ]
  },
  {
   "cell_type": "code",
   "execution_count": 97,
   "metadata": {},
   "outputs": [],
   "source": [
    "# load datasets\n",
    "import pandas as pd\n",
    "import numpy as np\n",
    "train = pd.read_csv(\"raw/train.csv\")\n",
    "test = pd.read_csv(\"raw/test.csv\")"
   ]
  },
  {
   "cell_type": "code",
   "execution_count": 98,
   "metadata": {},
   "outputs": [],
   "source": [
    "# Import the eda API\n",
    "import ta_lib.eda.api as eda"
   ]
  },
  {
   "cell_type": "code",
   "execution_count": 99,
   "metadata": {},
   "outputs": [
    {
     "data": {},
     "metadata": {},
     "output_type": "display_data"
    },
    {
     "data": {
      "application/vnd.holoviews_exec.v0+json": "",
      "text/html": [
       "<div id='16429'>\n",
       "\n",
       "\n",
       "\n",
       "\n",
       "\n",
       "  <div class=\"bk-root\" id=\"5dbb9dcd-60c3-4366-908b-136cbf6edea7\" data-root-id=\"16429\"></div>\n",
       "</div>\n",
       "<script type=\"application/javascript\">(function(root) {\n",
       "  function embed_document(root) {\n",
       "  var docs_json = {\"872581eb-cb56-4bc0-9071-6d58e4b45057\":{\"roots\":{\"references\":[{\"attributes\":{\"child\":{\"id\":\"16430\"},\"name\":\"train\",\"title\":\"train\"},\"id\":\"16431\",\"type\":\"Panel\"},{\"attributes\":{\"client_comm_id\":\"904fcf5ffbc24aceb9c3f609992039b4\",\"comm_id\":\"b9c3072f6f564fd0bc72f4e272e8bc54\",\"plot_id\":\"16429\"},\"id\":\"16434\",\"type\":\"panel.models.comm_manager.CommManager\"},{\"attributes\":{\"margin\":[5,5,5,5],\"name\":\"train\",\"text\":\"&lt;pre&gt;(1460, 81)&lt;/pre&gt;\"},\"id\":\"16430\",\"type\":\"panel.models.markup.HTML\"},{\"attributes\":{\"margin\":[5,5,5,5],\"name\":\"test\",\"text\":\"&lt;pre&gt;(1459, 80)&lt;/pre&gt;\"},\"id\":\"16432\",\"type\":\"panel.models.markup.HTML\"},{\"attributes\":{\"child\":{\"id\":\"16432\"},\"name\":\"test\",\"title\":\"test\"},\"id\":\"16433\",\"type\":\"Panel\"},{\"attributes\":{\"margin\":[0,0,0,0],\"tabs\":[{\"id\":\"16431\"},{\"id\":\"16433\"}]},\"id\":\"16429\",\"type\":\"Tabs\"}],\"root_ids\":[\"16429\",\"16434\"]},\"title\":\"Bokeh Application\",\"version\":\"2.2.3\"}};\n",
       "  var render_items = [{\"docid\":\"872581eb-cb56-4bc0-9071-6d58e4b45057\",\"root_ids\":[\"16429\"],\"roots\":{\"16429\":\"5dbb9dcd-60c3-4366-908b-136cbf6edea7\"}}];\n",
       "  root.Bokeh.embed.embed_items_notebook(docs_json, render_items);\n",
       "  }\n",
       "if (root.Bokeh !== undefined) {\n",
       "    embed_document(root);\n",
       "  } else {\n",
       "    var attempts = 0;\n",
       "    var timer = setInterval(function(root) {\n",
       "      if (root.Bokeh !== undefined) {\n",
       "        clearInterval(timer);\n",
       "        embed_document(root);\n",
       "      } else if (document.readyState == \"complete\") {\n",
       "        attempts++;\n",
       "        if (attempts > 100) {\n",
       "          clearInterval(timer);\n",
       "          console.log(\"Bokeh: ERROR: Unable to run BokehJS code because BokehJS library is missing\");\n",
       "        }\n",
       "      }\n",
       "    }, 10, root)\n",
       "  }\n",
       "})(window);</script>"
      ],
      "text/plain": [
       "Tabs\n",
       "    [0] Str(tuple, name='train')\n",
       "    [1] Str(tuple, name='test')"
      ]
     },
     "execution_count": 99,
     "metadata": {
      "application/vnd.holoviews_exec.v0+json": {
       "id": "16429"
      }
     },
     "output_type": "execute_result"
    }
   ],
   "source": [
    "display_as_tabs([('train', train.shape), ('test', test.shape)])"
   ]
  },
  {
   "cell_type": "code",
   "execution_count": 100,
   "metadata": {},
   "outputs": [
    {
     "data": {},
     "metadata": {},
     "output_type": "display_data"
    },
    {
     "data": {
      "application/vnd.holoviews_exec.v0+json": "",
      "text/html": [
       "<div id='16435'>\n",
       "\n",
       "\n",
       "\n",
       "\n",
       "\n",
       "  <div class=\"bk-root\" id=\"7db5a6d0-ef28-45d5-bcdb-35c6670a16b1\" data-root-id=\"16435\"></div>\n",
       "</div>\n",
       "<script type=\"application/javascript\">(function(root) {\n",
       "  function embed_document(root) {\n",
       "  var docs_json = {\"1d8dc819-cb59-496d-a501-270bce22d88a\":{\"roots\":{\"references\":[{\"attributes\":{\"child\":{\"id\":\"16492\"},\"name\":\"test\",\"title\":\"test\"},\"id\":\"16495\",\"type\":\"Panel\"},{\"attributes\":{\"editor\":{\"id\":\"16473\"},\"field\":\"Variable Name\",\"formatter\":{\"id\":\"16472\"},\"title\":\"Variable Name\",\"width\":null},\"id\":\"16474\",\"type\":\"TableColumn\"},{\"attributes\":{\"source\":{\"id\":\"16466\"}},\"id\":\"16493\",\"type\":\"CDSView\"},{\"attributes\":{\"editor\":{\"id\":\"16488\"},\"field\":\"Samples\",\"formatter\":{\"id\":\"16487\"},\"title\":\"Samples\",\"width\":null},\"id\":\"16489\",\"type\":\"TableColumn\"},{\"attributes\":{},\"id\":\"16487\",\"type\":\"StringFormatter\"},{\"attributes\":{\"editor\":{\"id\":\"16438\"},\"field\":\"index\",\"formatter\":{\"id\":\"16437\"},\"title\":\"index\",\"width\":null},\"id\":\"16439\",\"type\":\"TableColumn\"},{\"attributes\":{},\"id\":\"16498\",\"type\":\"UnionRenderers\"},{\"attributes\":{},\"id\":\"16468\",\"type\":\"StringEditor\"},{\"attributes\":{\"columns\":[{\"id\":\"16439\"},{\"id\":\"16444\"},{\"id\":\"16449\"},{\"id\":\"16454\"},{\"id\":\"16459\"}],\"editable\":true,\"fit_columns\":true,\"height\":2055,\"index_position\":null,\"margin\":[5,10,5,10],\"name\":\"train\",\"source\":{\"id\":\"16436\"},\"view\":{\"id\":\"16463\"}},\"id\":\"16462\",\"type\":\"DataTable\"},{\"attributes\":{},\"id\":\"16458\",\"type\":\"StringEditor\"},{\"attributes\":{},\"id\":\"16464\",\"type\":\"Selection\"},{\"attributes\":{\"margin\":[0,0,0,0],\"tabs\":[{\"id\":\"16465\"},{\"id\":\"16495\"}]},\"id\":\"16435\",\"type\":\"Tabs\"},{\"attributes\":{\"columns\":[{\"id\":\"16469\"},{\"id\":\"16474\"},{\"id\":\"16479\"},{\"id\":\"16484\"},{\"id\":\"16489\"}],\"editable\":true,\"fit_columns\":true,\"height\":2030,\"index_position\":null,\"margin\":[5,10,5,10],\"name\":\"test\",\"source\":{\"id\":\"16466\"},\"view\":{\"id\":\"16493\"}},\"id\":\"16492\",\"type\":\"DataTable\"},{\"attributes\":{},\"id\":\"16437\",\"type\":\"StringFormatter\"},{\"attributes\":{\"editor\":{\"id\":\"16443\"},\"field\":\"Variable Name\",\"formatter\":{\"id\":\"16442\"},\"title\":\"Variable Name\",\"width\":null},\"id\":\"16444\",\"type\":\"TableColumn\"},{\"attributes\":{\"source\":{\"id\":\"16436\"}},\"id\":\"16463\",\"type\":\"CDSView\"},{\"attributes\":{},\"id\":\"16452\",\"type\":\"StringFormatter\"},{\"attributes\":{\"editor\":{\"id\":\"16453\"},\"field\":\"No of Unique\",\"formatter\":{\"id\":\"16452\"},\"title\":\"No of Unique\",\"width\":null},\"id\":\"16454\",\"type\":\"TableColumn\"},{\"attributes\":{},\"id\":\"16457\",\"type\":\"StringFormatter\"},{\"attributes\":{},\"id\":\"16438\",\"type\":\"StringEditor\"},{\"attributes\":{\"editor\":{\"id\":\"16478\"},\"field\":\"Datatype\",\"formatter\":{\"id\":\"16477\"},\"title\":\"Datatype\",\"width\":null},\"id\":\"16479\",\"type\":\"TableColumn\"},{\"attributes\":{},\"id\":\"16443\",\"type\":\"StringEditor\"},{\"attributes\":{},\"id\":\"16448\",\"type\":\"StringEditor\"},{\"attributes\":{\"editor\":{\"id\":\"16458\"},\"field\":\"Samples\",\"formatter\":{\"id\":\"16457\"},\"title\":\"Samples\",\"width\":null},\"id\":\"16459\",\"type\":\"TableColumn\"},{\"attributes\":{},\"id\":\"16472\",\"type\":\"StringFormatter\"},{\"attributes\":{\"client_comm_id\":\"f2bfae160d7d4ae0b2b07e14beb04d9f\",\"comm_id\":\"cbb7b20b57eb4eae9c356e5d2561b323\",\"plot_id\":\"16435\"},\"id\":\"16508\",\"type\":\"panel.models.comm_manager.CommManager\"},{\"attributes\":{\"editor\":{\"id\":\"16483\"},\"field\":\"No of Unique\",\"formatter\":{\"id\":\"16482\"},\"title\":\"No of Unique\",\"width\":null},\"id\":\"16484\",\"type\":\"TableColumn\"},{\"attributes\":{\"editor\":{\"id\":\"16468\"},\"field\":\"index\",\"formatter\":{\"id\":\"16467\"},\"title\":\"index\",\"width\":null},\"id\":\"16469\",\"type\":\"TableColumn\"},{\"attributes\":{\"data\":{\"Datatype\":[\"int64\",\"int64\",\"object\",\"float64\",\"int64\",\"object\",\"object\",\"object\",\"object\",\"object\",\"object\",\"object\",\"object\",\"object\",\"object\",\"object\",\"object\",\"int64\",\"int64\",\"int64\",\"int64\",\"object\",\"object\",\"object\",\"object\",\"object\",\"float64\",\"object\",\"object\",\"object\",\"object\",\"object\",\"object\",\"object\",\"float64\",\"object\",\"float64\",\"float64\",\"float64\",\"object\",\"object\",\"object\",\"object\",\"int64\",\"int64\",\"int64\",\"int64\",\"float64\",\"float64\",\"int64\",\"int64\",\"int64\",\"int64\",\"object\",\"int64\",\"object\",\"int64\",\"object\",\"object\",\"float64\",\"object\",\"float64\",\"float64\",\"object\",\"object\",\"object\",\"int64\",\"int64\",\"int64\",\"int64\",\"int64\",\"int64\",\"object\",\"object\",\"object\",\"int64\",\"int64\",\"int64\",\"object\",\"object\"],\"No of Unique\":[\"1459\",\"16\",\"5\",\"115\",\"1106\",\"2\",\"2\",\"4\",\"4\",\"1\",\"5\",\"3\",\"25\",\"9\",\"5\",\"5\",\"7\",\"10\",\"9\",\"106\",\"61\",\"6\",\"4\",\"13\",\"15\",\"4\",\"303\",\"4\",\"5\",\"6\",\"4\",\"4\",\"4\",\"6\",\"669\",\"6\",\"161\",\"793\",\"736\",\"4\",\"5\",\"2\",\"4\",\"789\",\"407\",\"15\",\"879\",\"4\",\"3\",\"5\",\"3\",\"7\",\"3\",\"4\",\"12\",\"7\",\"5\",\"5\",\"6\",\"97\",\"3\",\"6\",\"459\",\"4\",\"5\",\"3\",\"263\",\"203\",\"131\",\"13\",\"75\",\"7\",\"2\",\"4\",\"3\",\"26\",\"12\",\"5\",\"9\",\"6\"],\"Samples\":[\"[1461, 1462, 1463, 1464, 1465]\",\"[20, 60, 120, 160, 80]\",\"['RH', 'RL', 'RM', 'FV', 'C (all)']\",\"[80.0, 81.0, 74.0, 78.0, 43.0]\",\"[11622, 14267, 13830, 9978, 5005]\",\"['Pave', 'Grvl']\",\"['Pave', 'Grvl']\",\"['Reg', 'IR1', 'IR2', 'IR3']\",\"['Lvl', 'HLS', 'Bnk', 'Low']\",\"['AllPub']\",\"['Inside', 'Corner', 'FR2', 'CulDSac', 'FR3']\",\"['Gtl', 'Mod', 'Sev']\",\"['NAmes', 'Gilbert', 'StoneBr', 'BrDale', 'NPkVill']\",\"['Feedr', 'Norm', 'PosN', 'RRNe', 'Artery']\",\"['Norm', 'Feedr', 'PosA', 'PosN', 'Artery']\",\"['1Fam', 'TwnhsE', 'Twnhs', 'Duplex', '2fmCon']\",\"['1Story', '2Story', 'SLvl', '1.5Fin', 'SFoyer']\",\"[5, 6, 8, 7, 4]\",\"[6, 5, 7, 8, 2]\",\"[1961, 1958, 1997, 1998, 1992]\",\"[1961, 1958, 1998, 1992, 1994]\",\"['Gable', 'Hip', 'Gambrel', 'Flat', 'Mansard']\",\"['CompShg', 'Tar&Grv', 'WdShake', 'WdShngl']\",\"['VinylSd', 'Wd Sdng', 'HdBoard', 'Plywood', 'MetalSd']\",\"['VinylSd', 'Wd Sdng', 'HdBoard', 'Plywood', 'MetalSd']\",\"['None', 'BrkFace', 'Stone', 'BrkCmn']\",\"[0.0, 108.0, 20.0, 504.0, 492.0]\",\"['TA', 'Gd', 'Ex', 'Fa']\",\"['TA', 'Gd', 'Fa', 'Po', 'Ex']\",\"['CBlock', 'PConc', 'BrkTil', 'Stone', 'Slab']\",\"['TA', 'Gd', 'Ex', 'Fa']\",\"['TA', 'Po', 'Fa', 'Gd']\",\"['No', 'Gd', 'Mn', 'Av']\",\"['Rec', 'ALQ', 'GLQ', 'Unf', 'BLQ']\",\"[468.0, 923.0, 791.0, 602.0, 263.0]\",\"['LwQ', 'Unf', 'Rec', 'BLQ', 'GLQ']\",\"[144.0, 0.0, 78.0, 859.0, 981.0]\",\"[270.0, 406.0, 137.0, 324.0, 1017.0]\",\"[882.0, 1329.0, 928.0, 926.0, 1280.0]\",\"['GasA', 'GasW', 'Grav', 'Wall']\",\"['TA', 'Gd', 'Ex', 'Fa', 'Po']\",\"['Y', 'N']\",\"['SBrkr', 'FuseA', 'FuseF', 'FuseP']\",\"[896, 1329, 928, 926, 1280]\",\"[0, 701, 678, 892, 676]\",\"[0, 362, 1064, 431, 436]\",\"[896, 1329, 1629, 1604, 1280]\",\"[0.0, 1.0, 2.0, 3.0, nan]\",\"[0.0, 1.0, nan, 2.0]\",\"[1, 2, 3, 4, 0]\",\"[0, 1, 2]\",\"[2, 3, 4, 1, 6]\",\"[1, 2, 0]\",\"['TA', 'Gd', 'Ex', 'Fa']\",\"[5, 6, 7, 4, 10]\",\"['Typ', 'Min2', 'Min1', 'Mod', 'Maj1']\",\"[0, 1, 2, 3, 4]\",\"['TA', 'Gd', 'Po', 'Fa', 'Ex']\",\"['Attchd', 'Detchd', 'BuiltIn', 'Basment', '2Types']\",\"[1961.0, 1958.0, 1997.0, 1998.0, 1992.0]\",\"['Unf', 'Fin', 'RFn']\",\"[1.0, 2.0, 3.0, 0.0, 4.0]\",\"[730.0, 312.0, 482.0, 470.0, 506.0]\",\"['TA', 'Fa', 'Gd', 'Po']\",\"['TA', 'Fa', 'Gd', 'Po', 'Ex']\",\"['Y', 'N', 'P']\",\"[140, 393, 212, 360, 0]\",\"[0, 36, 34, 82, 84]\",\"[0, 80, 186, 120, 150]\",\"[0, 224, 255, 225, 360]\",\"[120, 0, 144, 256, 216]\",\"[0, 144, 368, 444, 228]\",\"['Ex', 'Gd']\",\"['MnPrv', 'GdPrv', 'GdWo', 'MnWw']\",\"['Gar2', 'Shed', 'Othr']\",\"[0, 12500, 500, 1500, 300]\",\"[6, 3, 1, 4, 5]\",\"[2010, 2009, 2008, 2007, 2006]\",\"['WD', 'COD', 'New', 'ConLD', 'Oth']\",\"['Normal', 'Partial', 'Abnorml', 'Family', 'Alloca']\"],\"Variable Name\":[\"Id\",\"MSSubClass\",\"MSZoning\",\"LotFrontage\",\"LotArea\",\"Street\",\"Alley\",\"LotShape\",\"LandContour\",\"Utilities\",\"LotConfig\",\"LandSlope\",\"Neighborhood\",\"Condition1\",\"Condition2\",\"BldgType\",\"HouseStyle\",\"OverallQual\",\"OverallCond\",\"YearBuilt\",\"YearRemodAdd\",\"RoofStyle\",\"RoofMatl\",\"Exterior1st\",\"Exterior2nd\",\"MasVnrType\",\"MasVnrArea\",\"ExterQual\",\"ExterCond\",\"Foundation\",\"BsmtQual\",\"BsmtCond\",\"BsmtExposure\",\"BsmtFinType1\",\"BsmtFinSF1\",\"BsmtFinType2\",\"BsmtFinSF2\",\"BsmtUnfSF\",\"TotalBsmtSF\",\"Heating\",\"HeatingQC\",\"CentralAir\",\"Electrical\",\"1stFlrSF\",\"2ndFlrSF\",\"LowQualFinSF\",\"GrLivArea\",\"BsmtFullBath\",\"BsmtHalfBath\",\"FullBath\",\"HalfBath\",\"BedroomAbvGr\",\"KitchenAbvGr\",\"KitchenQual\",\"TotRmsAbvGrd\",\"Functional\",\"Fireplaces\",\"FireplaceQu\",\"GarageType\",\"GarageYrBlt\",\"GarageFinish\",\"GarageCars\",\"GarageArea\",\"GarageQual\",\"GarageCond\",\"PavedDrive\",\"WoodDeckSF\",\"OpenPorchSF\",\"EnclosedPorch\",\"3SsnPorch\",\"ScreenPorch\",\"PoolArea\",\"PoolQC\",\"Fence\",\"MiscFeature\",\"MiscVal\",\"MoSold\",\"YrSold\",\"SaleType\",\"SaleCondition\"],\"index\":[\"Id\",\"MSSubClass\",\"MSZoning\",\"LotFrontage\",\"LotArea\",\"Street\",\"Alley\",\"LotShape\",\"LandContour\",\"Utilities\",\"LotConfig\",\"LandSlope\",\"Neighborhood\",\"Condition1\",\"Condition2\",\"BldgType\",\"HouseStyle\",\"OverallQual\",\"OverallCond\",\"YearBuilt\",\"YearRemodAdd\",\"RoofStyle\",\"RoofMatl\",\"Exterior1st\",\"Exterior2nd\",\"MasVnrType\",\"MasVnrArea\",\"ExterQual\",\"ExterCond\",\"Foundation\",\"BsmtQual\",\"BsmtCond\",\"BsmtExposure\",\"BsmtFinType1\",\"BsmtFinSF1\",\"BsmtFinType2\",\"BsmtFinSF2\",\"BsmtUnfSF\",\"TotalBsmtSF\",\"Heating\",\"HeatingQC\",\"CentralAir\",\"Electrical\",\"1stFlrSF\",\"2ndFlrSF\",\"LowQualFinSF\",\"GrLivArea\",\"BsmtFullBath\",\"BsmtHalfBath\",\"FullBath\",\"HalfBath\",\"BedroomAbvGr\",\"KitchenAbvGr\",\"KitchenQual\",\"TotRmsAbvGrd\",\"Functional\",\"Fireplaces\",\"FireplaceQu\",\"GarageType\",\"GarageYrBlt\",\"GarageFinish\",\"GarageCars\",\"GarageArea\",\"GarageQual\",\"GarageCond\",\"PavedDrive\",\"WoodDeckSF\",\"OpenPorchSF\",\"EnclosedPorch\",\"3SsnPorch\",\"ScreenPorch\",\"PoolArea\",\"PoolQC\",\"Fence\",\"MiscFeature\",\"MiscVal\",\"MoSold\",\"YrSold\",\"SaleType\",\"SaleCondition\"]},\"selected\":{\"id\":\"16494\"},\"selection_policy\":{\"id\":\"16498\"}},\"id\":\"16466\",\"type\":\"ColumnDataSource\"},{\"attributes\":{},\"id\":\"16467\",\"type\":\"StringFormatter\"},{\"attributes\":{},\"id\":\"16478\",\"type\":\"StringEditor\"},{\"attributes\":{\"editor\":{\"id\":\"16448\"},\"field\":\"Datatype\",\"formatter\":{\"id\":\"16447\"},\"title\":\"Datatype\",\"width\":null},\"id\":\"16449\",\"type\":\"TableColumn\"},{\"attributes\":{},\"id\":\"16494\",\"type\":\"Selection\"},{\"attributes\":{\"child\":{\"id\":\"16462\"},\"name\":\"train\",\"title\":\"train\"},\"id\":\"16465\",\"type\":\"Panel\"},{\"attributes\":{},\"id\":\"16447\",\"type\":\"StringFormatter\"},{\"attributes\":{},\"id\":\"16483\",\"type\":\"StringEditor\"},{\"attributes\":{\"data\":{\"Datatype\":[\"int64\",\"int64\",\"object\",\"float64\",\"int64\",\"object\",\"object\",\"object\",\"object\",\"object\",\"object\",\"object\",\"object\",\"object\",\"object\",\"object\",\"object\",\"int64\",\"int64\",\"int64\",\"int64\",\"object\",\"object\",\"object\",\"object\",\"object\",\"float64\",\"object\",\"object\",\"object\",\"object\",\"object\",\"object\",\"object\",\"int64\",\"object\",\"int64\",\"int64\",\"int64\",\"object\",\"object\",\"object\",\"object\",\"int64\",\"int64\",\"int64\",\"int64\",\"int64\",\"int64\",\"int64\",\"int64\",\"int64\",\"int64\",\"object\",\"int64\",\"object\",\"int64\",\"object\",\"object\",\"float64\",\"object\",\"int64\",\"int64\",\"object\",\"object\",\"object\",\"int64\",\"int64\",\"int64\",\"int64\",\"int64\",\"int64\",\"object\",\"object\",\"object\",\"int64\",\"int64\",\"int64\",\"object\",\"object\",\"int64\"],\"No of Unique\":[\"1460\",\"15\",\"5\",\"110\",\"1073\",\"2\",\"2\",\"4\",\"4\",\"2\",\"5\",\"3\",\"25\",\"9\",\"8\",\"5\",\"8\",\"10\",\"9\",\"112\",\"61\",\"6\",\"8\",\"15\",\"16\",\"4\",\"327\",\"4\",\"5\",\"6\",\"4\",\"4\",\"4\",\"6\",\"637\",\"6\",\"144\",\"780\",\"721\",\"6\",\"5\",\"2\",\"5\",\"753\",\"417\",\"24\",\"861\",\"4\",\"3\",\"4\",\"3\",\"8\",\"4\",\"4\",\"12\",\"7\",\"4\",\"5\",\"6\",\"97\",\"3\",\"5\",\"441\",\"5\",\"5\",\"3\",\"274\",\"202\",\"120\",\"20\",\"76\",\"8\",\"3\",\"4\",\"4\",\"21\",\"12\",\"5\",\"9\",\"6\",\"663\"],\"Samples\":[\"[1, 2, 3, 4, 5]\",\"[60, 20, 70, 50, 190]\",\"['RL', 'RM', 'C (all)', 'FV', 'RH']\",\"[65.0, 80.0, 68.0, 60.0, 84.0]\",\"[8450, 9600, 11250, 9550, 14260]\",\"['Pave', 'Grvl']\",\"['Grvl', 'Pave']\",\"['Reg', 'IR1', 'IR2', 'IR3']\",\"['Lvl', 'Bnk', 'Low', 'HLS']\",\"['AllPub', 'NoSeWa']\",\"['Inside', 'FR2', 'Corner', 'CulDSac', 'FR3']\",\"['Gtl', 'Mod', 'Sev']\",\"['CollgCr', 'Veenker', 'Crawfor', 'NoRidge', 'Mitchel']\",\"['Norm', 'Feedr', 'PosN', 'Artery', 'RRAe']\",\"['Norm', 'Artery', 'RRNn', 'Feedr', 'PosN']\",\"['1Fam', '2fmCon', 'Duplex', 'TwnhsE', 'Twnhs']\",\"['2Story', '1Story', '1.5Fin', '1.5Unf', 'SFoyer']\",\"[7, 6, 8, 5, 9]\",\"[5, 8, 6, 7, 4]\",\"[2003, 1976, 2001, 1915, 2000]\",\"[2003, 1976, 2002, 1970, 2000]\",\"['Gable', 'Hip', 'Gambrel', 'Mansard', 'Flat']\",\"['CompShg', 'WdShngl', 'Metal', 'WdShake', 'Membran']\",\"['VinylSd', 'MetalSd', 'Wd Sdng', 'HdBoard', 'BrkFace']\",\"['VinylSd', 'MetalSd', 'Wd Shng', 'HdBoard', 'Plywood']\",\"['BrkFace', 'None', 'Stone', 'BrkCmn']\",\"[196.0, 0.0, 162.0, 350.0, 186.0]\",\"['Gd', 'TA', 'Ex', 'Fa']\",\"['TA', 'Gd', 'Fa', 'Po', 'Ex']\",\"['PConc', 'CBlock', 'BrkTil', 'Wood', 'Slab']\",\"['Gd', 'TA', 'Ex', 'Fa']\",\"['TA', 'Gd', 'Fa', 'Po']\",\"['No', 'Gd', 'Mn', 'Av']\",\"['GLQ', 'ALQ', 'Unf', 'Rec', 'BLQ']\",\"[706, 978, 486, 216, 655]\",\"['Unf', 'BLQ', 'ALQ', 'Rec', 'LwQ']\",\"[0, 32, 668, 486, 93]\",\"[150, 284, 434, 540, 490]\",\"[856, 1262, 920, 756, 1145]\",\"['GasA', 'GasW', 'Grav', 'Wall', 'OthW']\",\"['Ex', 'Gd', 'TA', 'Fa', 'Po']\",\"['Y', 'N']\",\"['SBrkr', 'FuseF', 'FuseA', 'FuseP', 'Mix']\",\"[856, 1262, 920, 961, 1145]\",\"[854, 0, 866, 756, 1053]\",\"[0, 360, 513, 234, 528]\",\"[1710, 1262, 1786, 1717, 2198]\",\"[1, 0, 2, 3]\",\"[0, 1, 2]\",\"[2, 1, 3, 0]\",\"[1, 0, 2]\",\"[3, 4, 1, 2, 0]\",\"[1, 2, 3, 0]\",\"['Gd', 'TA', 'Ex', 'Fa']\",\"[8, 6, 7, 9, 5]\",\"['Typ', 'Min1', 'Maj1', 'Min2', 'Mod']\",\"[0, 1, 2, 3]\",\"['TA', 'Gd', 'Fa', 'Ex', 'Po']\",\"['Attchd', 'Detchd', 'BuiltIn', 'CarPort', 'Basment']\",\"[2003.0, 1976.0, 2001.0, 1998.0, 2000.0]\",\"['RFn', 'Unf', 'Fin']\",\"[2, 3, 1, 0, 4]\",\"[548, 460, 608, 642, 836]\",\"['TA', 'Fa', 'Gd', 'Ex', 'Po']\",\"['TA', 'Fa', 'Gd', 'Po', 'Ex']\",\"['Y', 'N', 'P']\",\"[0, 298, 192, 40, 255]\",\"[61, 0, 42, 35, 84]\",\"[0, 272, 228, 205, 176]\",\"[0, 320, 407, 130, 180]\",\"[0, 176, 198, 291, 252]\",\"[0, 512, 648, 576, 555]\",\"['Ex', 'Fa', 'Gd']\",\"['MnPrv', 'GdWo', 'GdPrv', 'MnWw']\",\"['Shed', 'Gar2', 'Othr', 'TenC']\",\"[0, 700, 350, 500, 400]\",\"[2, 5, 9, 12, 10]\",\"[2008, 2007, 2006, 2009, 2010]\",\"['WD', 'New', 'COD', 'ConLD', 'ConLI']\",\"['Normal', 'Abnorml', 'Partial', 'AdjLand', 'Alloca']\",\"[208500, 181500, 223500, 140000, 250000]\"],\"Variable Name\":[\"Id\",\"MSSubClass\",\"MSZoning\",\"LotFrontage\",\"LotArea\",\"Street\",\"Alley\",\"LotShape\",\"LandContour\",\"Utilities\",\"LotConfig\",\"LandSlope\",\"Neighborhood\",\"Condition1\",\"Condition2\",\"BldgType\",\"HouseStyle\",\"OverallQual\",\"OverallCond\",\"YearBuilt\",\"YearRemodAdd\",\"RoofStyle\",\"RoofMatl\",\"Exterior1st\",\"Exterior2nd\",\"MasVnrType\",\"MasVnrArea\",\"ExterQual\",\"ExterCond\",\"Foundation\",\"BsmtQual\",\"BsmtCond\",\"BsmtExposure\",\"BsmtFinType1\",\"BsmtFinSF1\",\"BsmtFinType2\",\"BsmtFinSF2\",\"BsmtUnfSF\",\"TotalBsmtSF\",\"Heating\",\"HeatingQC\",\"CentralAir\",\"Electrical\",\"1stFlrSF\",\"2ndFlrSF\",\"LowQualFinSF\",\"GrLivArea\",\"BsmtFullBath\",\"BsmtHalfBath\",\"FullBath\",\"HalfBath\",\"BedroomAbvGr\",\"KitchenAbvGr\",\"KitchenQual\",\"TotRmsAbvGrd\",\"Functional\",\"Fireplaces\",\"FireplaceQu\",\"GarageType\",\"GarageYrBlt\",\"GarageFinish\",\"GarageCars\",\"GarageArea\",\"GarageQual\",\"GarageCond\",\"PavedDrive\",\"WoodDeckSF\",\"OpenPorchSF\",\"EnclosedPorch\",\"3SsnPorch\",\"ScreenPorch\",\"PoolArea\",\"PoolQC\",\"Fence\",\"MiscFeature\",\"MiscVal\",\"MoSold\",\"YrSold\",\"SaleType\",\"SaleCondition\",\"SalePrice\"],\"index\":[\"Id\",\"MSSubClass\",\"MSZoning\",\"LotFrontage\",\"LotArea\",\"Street\",\"Alley\",\"LotShape\",\"LandContour\",\"Utilities\",\"LotConfig\",\"LandSlope\",\"Neighborhood\",\"Condition1\",\"Condition2\",\"BldgType\",\"HouseStyle\",\"OverallQual\",\"OverallCond\",\"YearBuilt\",\"YearRemodAdd\",\"RoofStyle\",\"RoofMatl\",\"Exterior1st\",\"Exterior2nd\",\"MasVnrType\",\"MasVnrArea\",\"ExterQual\",\"ExterCond\",\"Foundation\",\"BsmtQual\",\"BsmtCond\",\"BsmtExposure\",\"BsmtFinType1\",\"BsmtFinSF1\",\"BsmtFinType2\",\"BsmtFinSF2\",\"BsmtUnfSF\",\"TotalBsmtSF\",\"Heating\",\"HeatingQC\",\"CentralAir\",\"Electrical\",\"1stFlrSF\",\"2ndFlrSF\",\"LowQualFinSF\",\"GrLivArea\",\"BsmtFullBath\",\"BsmtHalfBath\",\"FullBath\",\"HalfBath\",\"BedroomAbvGr\",\"KitchenAbvGr\",\"KitchenQual\",\"TotRmsAbvGrd\",\"Functional\",\"Fireplaces\",\"FireplaceQu\",\"GarageType\",\"GarageYrBlt\",\"GarageFinish\",\"GarageCars\",\"GarageArea\",\"GarageQual\",\"GarageCond\",\"PavedDrive\",\"WoodDeckSF\",\"OpenPorchSF\",\"EnclosedPorch\",\"3SsnPorch\",\"ScreenPorch\",\"PoolArea\",\"PoolQC\",\"Fence\",\"MiscFeature\",\"MiscVal\",\"MoSold\",\"YrSold\",\"SaleType\",\"SaleCondition\",\"SalePrice\"]},\"selected\":{\"id\":\"16464\"},\"selection_policy\":{\"id\":\"16496\"}},\"id\":\"16436\",\"type\":\"ColumnDataSource\"},{\"attributes\":{},\"id\":\"16442\",\"type\":\"StringFormatter\"},{\"attributes\":{},\"id\":\"16496\",\"type\":\"UnionRenderers\"},{\"attributes\":{},\"id\":\"16477\",\"type\":\"StringFormatter\"},{\"attributes\":{},\"id\":\"16473\",\"type\":\"StringEditor\"},{\"attributes\":{},\"id\":\"16482\",\"type\":\"StringFormatter\"},{\"attributes\":{},\"id\":\"16453\",\"type\":\"StringEditor\"},{\"attributes\":{},\"id\":\"16488\",\"type\":\"StringEditor\"}],\"root_ids\":[\"16435\",\"16508\"]},\"title\":\"Bokeh Application\",\"version\":\"2.2.3\"}};\n",
       "  var render_items = [{\"docid\":\"1d8dc819-cb59-496d-a501-270bce22d88a\",\"root_ids\":[\"16435\"],\"roots\":{\"16435\":\"7db5a6d0-ef28-45d5-bcdb-35c6670a16b1\"}}];\n",
       "  root.Bokeh.embed.embed_items_notebook(docs_json, render_items);\n",
       "  }\n",
       "if (root.Bokeh !== undefined) {\n",
       "    embed_document(root);\n",
       "  } else {\n",
       "    var attempts = 0;\n",
       "    var timer = setInterval(function(root) {\n",
       "      if (root.Bokeh !== undefined) {\n",
       "        clearInterval(timer);\n",
       "        embed_document(root);\n",
       "      } else if (document.readyState == \"complete\") {\n",
       "        attempts++;\n",
       "        if (attempts > 100) {\n",
       "          clearInterval(timer);\n",
       "          console.log(\"Bokeh: ERROR: Unable to run BokehJS code because BokehJS library is missing\");\n",
       "        }\n",
       "      }\n",
       "    }, 10, root)\n",
       "  }\n",
       "})(window);</script>"
      ],
      "text/plain": [
       "Tabs\n",
       "    [0] DataFrame(name='train', value=               Variable Na...)\n",
       "    [1] DataFrame(name='test', value=               Variable Na...)"
      ]
     },
     "execution_count": 100,
     "metadata": {
      "application/vnd.holoviews_exec.v0+json": {
       "id": "16435"
      }
     },
     "output_type": "execute_result"
    }
   ],
   "source": [
    "sum1 = eda.get_variable_summary(train)\n",
    "sum2 = eda.get_variable_summary(test)\n",
    "\n",
    "display_as_tabs([('train', sum1), ('test', sum2)])"
   ]
  },
  {
   "cell_type": "code",
   "execution_count": 101,
   "metadata": {},
   "outputs": [
    {
     "data": {
      "text/plain": [
       "Id                 0\n",
       "MSSubClass         0\n",
       "MSZoning           0\n",
       "LotFrontage      259\n",
       "LotArea            0\n",
       "                ... \n",
       "MoSold             0\n",
       "YrSold             0\n",
       "SaleType           0\n",
       "SaleCondition      0\n",
       "SalePrice          0\n",
       "Length: 81, dtype: int64"
      ]
     },
     "execution_count": 101,
     "metadata": {},
     "output_type": "execute_result"
    }
   ],
   "source": [
    "v=train.isna().sum()\n",
    "v"
   ]
  },
  {
   "cell_type": "raw",
   "metadata": {},
   "source": [
    "from ta_lib.reports.api import summary_report\n",
    "\n",
    "summary_report(train, '.health/train.html')\n",
    "summary_report(test, '.health/test.html')"
   ]
  },
  {
   "cell_type": "markdown",
   "metadata": {},
   "source": [
    "# Cleaning Dataset"
   ]
  },
  {
   "cell_type": "code",
   "execution_count": 102,
   "metadata": {},
   "outputs": [],
   "source": [
    "# standard code-template imports\n",
    "from ta_lib.core.api import (\n",
    "    create_context, get_dataframe, get_feature_names_from_column_transformer, get_package_path,\n",
    "    display_as_tabs, string_cleaning, merge_info, initialize_environment,\n",
    "    list_datasets, load_dataset, save_dataset\n",
    ")\n",
    "import ta_lib.eda.api as eda"
   ]
  },
  {
   "cell_type": "raw",
   "metadata": {},
   "source": [
    "v=test.columns[test.isnull().any()]\n",
    "df=test[v]\n",
    "df.head()"
   ]
  },
  {
   "cell_type": "raw",
   "metadata": {},
   "source": [
    "df.isna().sum()"
   ]
  },
  {
   "cell_type": "raw",
   "metadata": {},
   "source": [
    "train.groupby('Neighborhood')['FireplaceQu'].value_counts()"
   ]
  },
  {
   "cell_type": "raw",
   "metadata": {},
   "source": [
    "train['FireplaceQu'].value_counts()"
   ]
  },
  {
   "cell_type": "code",
   "execution_count": 103,
   "metadata": {},
   "outputs": [],
   "source": [
    "#fill the nan values of numerical columns train\n",
    "train['LotFrontage'] = train.groupby('Neighborhood')['LotFrontage'].transform(lambda x: x.fillna(x.mean()))\n",
    "train['MasVnrArea'] = train.groupby('Neighborhood')['MasVnrArea'].transform(lambda x: x.fillna(x.mean()))\n",
    "train['GarageYrBlt'] = train.groupby('Neighborhood')['GarageYrBlt'].transform(lambda x: x.fillna(x.mean()))"
   ]
  },
  {
   "cell_type": "code",
   "execution_count": 104,
   "metadata": {},
   "outputs": [],
   "source": [
    "#filling categorical data train\n",
    "train['Alley'] = train['Alley'].transform(lambda x: x.fillna('None'))\n",
    "train['PoolQC'] = train['PoolQC'].transform(lambda x: x.fillna('None'))\n",
    "train['Fence'] = train['Fence'].transform(lambda x: x.fillna('None'))\n",
    "train['MiscFeature'] = train['MiscFeature'].transform(lambda x: x.fillna('None'))\n",
    "train['FireplaceQu'] = train['FireplaceQu'].transform(lambda x: x.fillna('None'))"
   ]
  },
  {
   "cell_type": "code",
   "execution_count": 105,
   "metadata": {},
   "outputs": [],
   "source": [
    "train['MasVnrType'] = train.fillna(train['MasVnrType'].value_counts().index[0])\n",
    "train['BsmtQual'] = train.fillna(train['BsmtQual'].value_counts().index[0])\n",
    "train['BsmtCond'] = train.fillna(train['BsmtCond'].value_counts().index[0])\n",
    "train['BsmtExposure'] = train.fillna(train['BsmtExposure'].value_counts().index[0])\n",
    "train['BsmtFinType1'] = train.fillna(train['BsmtFinType1'].value_counts().index[0])\n",
    "train['BsmtFinType2'] = train.fillna(train['BsmtFinType2'].value_counts().index[0])\n",
    "train['Electrical'] = train.fillna(train['Electrical'].value_counts().index[0])\n",
    "train['GarageType'] = train.fillna(train['GarageType'].value_counts().index[0])\n",
    "train['GarageFinish'] = train.fillna(train['GarageFinish'].value_counts().index[0])\n",
    "train['GarageQual'] = train.fillna(train['GarageQual'].value_counts().index[0])\n",
    "train['GarageCond'] = train.fillna(train['GarageCond'].value_counts().index[0])"
   ]
  },
  {
   "cell_type": "code",
   "execution_count": 106,
   "metadata": {},
   "outputs": [],
   "source": [
    "#fill the nan values of numerical columns test\n",
    "test['LotFrontage'] = test.groupby('Neighborhood')['LotFrontage'].transform(lambda x: x.fillna(x.mean()))\n",
    "test['MasVnrArea'] = test.groupby('Neighborhood')['MasVnrArea'].transform(lambda x: x.fillna(x.mean()))\n",
    "test['GarageYrBlt'] = test.groupby('Neighborhood')['GarageYrBlt'].transform(lambda x: x.fillna(x.mean()))"
   ]
  },
  {
   "cell_type": "code",
   "execution_count": 107,
   "metadata": {},
   "outputs": [],
   "source": [
    "#filling categorical data test\n",
    "test['Alley'] = test['Alley'].transform(lambda x: x.fillna('None'))\n",
    "test['PoolQC'] = test['PoolQC'].transform(lambda x: x.fillna('None'))\n",
    "test['Fence'] = test['Fence'].transform(lambda x: x.fillna('None'))\n",
    "test['MiscFeature'] = test['MiscFeature'].transform(lambda x: x.fillna('None'))\n",
    "test['FireplaceQu'] = test['FireplaceQu'].transform(lambda x: x.fillna('None'))"
   ]
  },
  {
   "cell_type": "code",
   "execution_count": 108,
   "metadata": {},
   "outputs": [],
   "source": [
    "test['MasVnrType'] = test.fillna(train['MasVnrType'].value_counts().index[0])\n",
    "test['BsmtQual'] = test.fillna(train['BsmtQual'].value_counts().index[0])\n",
    "test['BsmtCond'] = test.fillna(train['BsmtCond'].value_counts().index[0])\n",
    "test['BsmtExposure'] = test.fillna(train['BsmtExposure'].value_counts().index[0])\n",
    "test['BsmtFinType1'] = test.fillna(train['BsmtFinType1'].value_counts().index[0])\n",
    "test['BsmtFinType2'] = test.fillna(train['BsmtFinType2'].value_counts().index[0])\n",
    "test['Electrical'] = test.fillna(train['Electrical'].value_counts().index[0])\n",
    "test['GarageType'] = test.fillna(train['GarageType'].value_counts().index[0])\n",
    "test['GarageFinish'] = test.fillna(train['GarageFinish'].value_counts().index[0])\n",
    "test['GarageQual'] = test.fillna(train['GarageQual'].value_counts().index[0])\n",
    "test['GarageCond'] = test.fillna(train['GarageCond'].value_counts().index[0])"
   ]
  },
  {
   "cell_type": "code",
   "execution_count": 109,
   "metadata": {},
   "outputs": [],
   "source": [
    "test=test.dropna()"
   ]
  },
  {
   "cell_type": "markdown",
   "metadata": {},
   "source": [
    "# Feature Selection"
   ]
  },
  {
   "cell_type": "raw",
   "metadata": {},
   "source": [
    "corr = train.corr()"
   ]
  },
  {
   "cell_type": "raw",
   "metadata": {},
   "source": [
    "columns = np.full((corr.shape[0],), True, dtype=bool)\n",
    "for i in range(corr.shape[0]):\n",
    "    for j in range(i+1, corr.shape[0]):\n",
    "        if corr.iloc[i,j] >= 0.9:\n",
    "            if columns[j]:\n",
    "                columns[j] = False\n",
    "#selected_columns = train.columns[columns]\n",
    "#data = train[selected_columns]\n",
    "columns"
   ]
  },
  {
   "cell_type": "code",
   "execution_count": 110,
   "metadata": {},
   "outputs": [],
   "source": [
    "import numpy as np\n",
    "import pandas as pd\n",
    "import seaborn as sns\n",
    "import matplotlib.pyplot as plt\n",
    "from sklearn.preprocessing import LabelEncoder, OneHotEncoder\n",
    "import warnings\n",
    "warnings.filterwarnings(\"ignore\")\n",
    "from sklearn.model_selection import train_test_split\n",
    "from sklearn.svm import SVC\n",
    "from sklearn.metrics import confusion_matrix\n",
    "np.random.seed(123)"
   ]
  },
  {
   "cell_type": "raw",
   "metadata": {},
   "source": [
    "#Selecting house price numerical features using univariate model performance\n",
    "numerics = ['int16', 'int32', 'int64', 'float16', 'float32', 'float64']\n",
    "numerical_vars = list(train.select_dtypes(include=numerics).columns)\n",
    "data = train[numerical_vars]\n",
    "data.shape"
   ]
  },
  {
   "cell_type": "code",
   "execution_count": 111,
   "metadata": {},
   "outputs": [],
   "source": [
    "#train test split for validation of train dataset\n",
    "#import numpy as np\n",
    "from sklearn.model_selection import train_test_split\n",
    "\n",
    "X=train.drop(['SalePrice'], axis=1)\n",
    "Y=train['SalePrice']\n",
    "\n",
    "#Creating Dummies\n",
    "X=pd.get_dummies(X)\n",
    "\n",
    "\n",
    "#Normalizaion\n",
    "from sklearn import preprocessing\n",
    "\n",
    "x = X.values #returns a numpy array\n",
    "min_max_scaler = preprocessing.MinMaxScaler()\n",
    "x_scaled = min_max_scaler.fit_transform(x)\n",
    "col=X.columns\n",
    "X = pd.DataFrame(x_scaled)\n",
    "X.columns=col\n",
    "\n",
    "#Taking features which gave good p values with regression\n",
    "X=X[['MSZoning_FV', 'MSZoning_RH', 'MSZoning_RL', 'MSZoning_RM', 'LotFrontage', 'LotArea', 'Street_Pave', 'LandContour_HLS', 'LandContour_Lvl', 'LotConfig_CulDSac', 'LandSlope_Mod', 'LandSlope_Sev', 'Neighborhood_ClearCr', 'Neighborhood_CollgCr', 'Neighborhood_Edwards', 'Neighborhood_Gilbert', 'Neighborhood_Mitchel', 'Neighborhood_NAmes', 'Neighborhood_NoRidge', 'Neighborhood_NridgHt', 'Neighborhood_NWAmes', 'Neighborhood_StoneBr', 'Condition1_Norm', 'Condition1_RRAe', 'Condition2_PosN', 'Condition2_RRAe', 'BldgType_Twnhs', 'BldgType_TwnhsE', 'HouseStyle_2Story', 'OverallQual', 'OverallCond', 'YearBuilt', 'YearRemodAdd', 'RoofStyle_Shed', 'RoofMatl_CompShg', 'RoofMatl_Membran', 'RoofMatl_Metal', 'RoofMatl_Roll', 'RoofMatl_Tar&Grv', 'RoofMatl_WdShake', 'RoofMatl_WdShngl', 'MasVnrArea', 'ExterQual_Gd', 'ExterQual_TA', 'Foundation_Wood', 'BsmtFinSF1', 'BsmtFinSF2', 'BsmtUnfSF', 'HeatingQC_Gd', 'HeatingQC_TA', '1stFlrSF', '2ndFlrSF', 'BedroomAbvGr', 'KitchenAbvGr', 'KitchenQual_Fa', 'KitchenQual_Gd', 'KitchenQual_TA', 'TotRmsAbvGrd', 'Functional_Sev', 'Functional_Typ', 'Fireplaces', 'GarageArea', 'WoodDeckSF', 'ScreenPorch', 'PoolArea', 'PoolQC_Fa', 'PoolQC_Gd', 'PoolQC_None']]\n",
    "\n",
    "\n",
    "X_train, X_test, Y_train, Y_test = train_test_split(X, Y, test_size=0.3, random_state=42)"
   ]
  },
  {
   "cell_type": "code",
   "execution_count": 112,
   "metadata": {},
   "outputs": [
    {
     "data": {
      "text/html": [
       "[6926744440.619773, 6971412244.316068, 6570009205.226085, 6453715705.955997, 6046539964.095217, 6516085517.159482, 6960916794.747322, 7065598455.559479, 6999688268.364411, 6869485666.377712]"
      ],
      "text/plain": [
       "[6926744440.619773,\n",
       " 6971412244.316068,\n",
       " 6570009205.226085,\n",
       " 6453715705.955997,\n",
       " 6046539964.095217,\n",
       " 6516085517.159482,\n",
       " 6960916794.747322,\n",
       " 7065598455.559479,\n",
       " 6999688268.364411,\n",
       " 6869485666.377712]"
      ]
     },
     "execution_count": 112,
     "metadata": {},
     "output_type": "execute_result"
    }
   ],
   "source": [
    "\n",
    "# determine mse for each feature\n",
    "from sklearn.tree import DecisionTreeRegressor\n",
    "from sklearn.metrics import mean_squared_error\n",
    "# here we store the mse values\n",
    "mse_values = []\n",
    "\n",
    "# iterate over each variable\n",
    "for feature in X_train.columns:\n",
    "    \n",
    "    # train a decision tree\n",
    "    clf = LinearRegression()\n",
    "    clf.fit(X_train[feature].fillna(0).to_frame(), Y_train)\n",
    "    \n",
    "    # make a prediction\n",
    "    y_scored = clf.predict(X_test[feature].fillna(0).to_frame())\n",
    "    \n",
    "    # determine the mse and store it\n",
    "    mse_values.append(mean_squared_error(Y_test, y_scored))\n",
    "    \n",
    "    \n",
    "# display the result\n",
    "mse_values[0:10]"
   ]
  },
  {
   "cell_type": "code",
   "execution_count": 113,
   "metadata": {},
   "outputs": [
    {
     "data": {
      "text/plain": [
       "<AxesSubplot:>"
      ]
     },
     "execution_count": 113,
     "metadata": {},
     "output_type": "execute_result"
    },
    {
     "data": {
      "image/png": "[encoded data removed]",
      "text/plain": [
       "<Figure size 1440x576 with 1 Axes>"
      ]
     },
     "metadata": {},
     "output_type": "display_data"
    }
   ],
   "source": [
    "# now let's:\n",
    "\n",
    "# 1) capture the mse values in a pandas series\n",
    "# 2) add the variable names in the index\n",
    "# 3) sort the features based on the mse\n",
    "# 4) and make a var plot\n",
    "\n",
    "mse_values = pd.Series(mse_values)\n",
    "mse_values.index = X_train.columns\n",
    "mse_values.sort_values(ascending=False).plot.bar(figsize=(20,8))"
   ]
  },
  {
   "cell_type": "code",
   "execution_count": 114,
   "metadata": {},
   "outputs": [
    {
     "data": {
      "text/plain": [
       "Index(['LotFrontage', 'Neighborhood_NoRidge', 'Neighborhood_NridgHt',\n",
       "       'OverallQual', 'YearBuilt', 'YearRemodAdd', 'MasVnrArea',\n",
       "       'ExterQual_Gd', 'ExterQual_TA', 'BsmtFinSF1', 'HeatingQC_TA',\n",
       "       '1stFlrSF', '2ndFlrSF', 'KitchenQual_Gd', 'KitchenQual_TA',\n",
       "       'TotRmsAbvGrd', 'Fireplaces', 'GarageArea', 'WoodDeckSF'],\n",
       "      dtype='object')"
      ]
     },
     "execution_count": 114,
     "metadata": {},
     "output_type": "execute_result"
    }
   ],
   "source": [
    "selected_features = mse_values[mse_values < np.mean(mse_values)].index\n",
    "\n",
    "selected_features"
   ]
  },
  {
   "cell_type": "code",
   "execution_count": 115,
   "metadata": {},
   "outputs": [
    {
     "data": {
      "text/plain": [
       "((1022, 19), (438, 19))"
      ]
     },
     "execution_count": 115,
     "metadata": {},
     "output_type": "execute_result"
    }
   ],
   "source": [
    "# select features in the dataframes\n",
    "\n",
    "X_train = X_train[selected_features]\n",
    "X_test = X_test[selected_features]\n",
    "\n",
    "X_train.shape, X_test.shape"
   ]
  },
  {
   "cell_type": "raw",
   "metadata": {},
   "source": [
    "#RFECV\n",
    "from sklearn.datasets import make_friedman1 \n",
    "from sklearn.feature_selection import RFECV \n",
    "from sklearn.svm import SVR \n",
    "X, Y = make_friedman1(n_samples=50, n_features=10, random_state=0) \n",
    "estimator = SVR(kernel=\"linear\") \n",
    "selector = RFECV(estimator, step=1, cv=5) \n",
    "selector = selector.fit(X, Y) \n",
    "selector.support_  \n",
    "selector.ranking_"
   ]
  },
  {
   "cell_type": "raw",
   "metadata": {},
   "source": [
    "#import pandas as pd\n",
    "#import numpy as np\n",
    "from sklearn import datasets, linear_model\n",
    "#from sklearn.linear_model import LinearRegression\n",
    "import statsmodels.api as sm\n",
    "from scipy import stats\n",
    "\n",
    "diabetes = datasets.load_diabetes()\n",
    "#X = diabetes.data\n",
    "#y = diabetes.target\n",
    "\n",
    "X2 = sm.add_constant(X)\n",
    "est = sm.OLS(Y, X2)\n",
    "est2 = est.fit()\n",
    "print(est2.summary())"
   ]
  },
  {
   "cell_type": "code",
   "execution_count": null,
   "metadata": {},
   "outputs": [],
   "source": []
  },
  {
   "cell_type": "code",
   "execution_count": null,
   "metadata": {},
   "outputs": [],
   "source": []
  },
  {
   "cell_type": "code",
   "execution_count": null,
   "metadata": {},
   "outputs": [],
   "source": []
  },
  {
   "cell_type": "markdown",
   "metadata": {},
   "source": [
    "# Model"
   ]
  },
  {
   "cell_type": "raw",
   "metadata": {},
   "source": [
    "Linear Regression"
   ]
  },
  {
   "cell_type": "code",
   "execution_count": 116,
   "metadata": {},
   "outputs": [],
   "source": [
    "from sklearn.linear_model import LinearRegression\n",
    "reg = LinearRegression().fit(X_train, Y_train)"
   ]
  },
  {
   "cell_type": "code",
   "execution_count": 117,
   "metadata": {},
   "outputs": [
    {
     "name": "stdout",
     "output_type": "stream",
     "text": [
      "79.92426410806172 79.5435864813683\n"
     ]
    }
   ],
   "source": [
    "#train\n",
    "print( reg.score(X_train, Y_train)*100, (1 - (1-reg.score(X_train, Y_train))*(len(Y_train)-1)/(len(Y_train)-X_train.shape[1]-1))*100)"
   ]
  },
  {
   "cell_type": "code",
   "execution_count": 118,
   "metadata": {},
   "outputs": [
    {
     "name": "stdout",
     "output_type": "stream",
     "text": [
      "84.5529386729033 83.85079952167163\n"
     ]
    }
   ],
   "source": [
    "#test\n",
    "print(reg.score(X_test, Y_test)*100, (1 - (1-reg.score(X_test, Y_test))*(len(Y_test)-1)/(len(Y_test)-X_test.shape[1]-1))*100)"
   ]
  },
  {
   "cell_type": "code",
   "execution_count": 119,
   "metadata": {},
   "outputs": [
    {
     "data": {
      "text/plain": [
       "<AxesSubplot:xlabel='SalePrice'>"
      ]
     },
     "execution_count": 119,
     "metadata": {},
     "output_type": "execute_result"
    },
    {
     "data": {
      "image/png": "[encoded data removed]",
      "text/plain": [
       "<Figure size 576x396 with 1 Axes>"
      ]
     },
     "metadata": {},
     "output_type": "display_data"
    }
   ],
   "source": [
    "#plot on train dataset\n",
    "import seaborn as sns\n",
    "Y_pred = reg.predict(X_train)  # make predictions\n",
    "sns.regplot(x=Y_train, y=Y_pred, ci=None, color=\"b\")"
   ]
  },
  {
   "cell_type": "code",
   "execution_count": 120,
   "metadata": {},
   "outputs": [
    {
     "data": {
      "text/plain": [
       "<AxesSubplot:xlabel='SalePrice'>"
      ]
     },
     "execution_count": 120,
     "metadata": {},
     "output_type": "execute_result"
    },
    {
     "data": {
      "image/png": "[encoded data removed]",
      "text/plain": [
       "<Figure size 576x396 with 1 Axes>"
      ]
     },
     "metadata": {},
     "output_type": "display_data"
    }
   ],
   "source": [
    "#plot on test dataset\n",
    "Y_pred = reg.predict(X_test)  # make predictions\n",
    "sns.regplot(x=Y_test, y=Y_pred, ci=None, color=\"b\")"
   ]
  },
  {
   "cell_type": "raw",
   "metadata": {},
   "source": [
    "#regression report\n",
    "from tigerml.model_eval import RegressionReport\n",
    "#from sklearn.linear_model import LinearRegression\n",
    "from sklearn.datasets import load_boston\n",
    "#from sklearn.model_selection import train_test_split\n",
    "reg_linear_report = RegressionReport(model=reg, x_train=X_train, y_train=Y_train, x_test= X_test, y_test= Y_test, refit=True)\n",
    "reg_linear_report.get_report(include_shap=False, file_path='regression_linear_model_report_pval_util.html')"
   ]
  },
  {
   "cell_type": "code",
   "execution_count": null,
   "metadata": {},
   "outputs": [],
   "source": []
  },
  {
   "cell_type": "markdown",
   "metadata": {},
   "source": [
    "# Final Prediction"
   ]
  },
  {
   "cell_type": "code",
   "execution_count": 121,
   "metadata": {},
   "outputs": [
    {
     "data": {
      "text/plain": [
       "(1447, 19)"
      ]
     },
     "execution_count": 121,
     "metadata": {},
     "output_type": "execute_result"
    }
   ],
   "source": [
    "#Creating Dummies\n",
    "X=pd.get_dummies(test)\n",
    "\n",
    "#Normalizaion\n",
    "x = X.values #returns a numpy array\n",
    "min_max_scaler = preprocessing.MinMaxScaler()\n",
    "x_scaled = min_max_scaler.fit_transform(x)\n",
    "col=X.columns\n",
    "X = pd.DataFrame(x_scaled)\n",
    "X.columns=col\n",
    "\n",
    "# select features in the dataframes\n",
    "X = X[selected_features]\n",
    "X.shape"
   ]
  },
  {
   "cell_type": "code",
   "execution_count": 122,
   "metadata": {},
   "outputs": [
    {
     "data": {
      "text/plain": [
       "array([107346.21345672, 139872.33573467, 160915.94649138, ...,\n",
       "       160076.50448156,  93006.25789644, 221757.89067125])"
      ]
     },
     "execution_count": 122,
     "metadata": {},
     "output_type": "execute_result"
    }
   ],
   "source": [
    "#predicting value\n",
    "Y_pred = reg.predict(X)\n",
    "Y_pred"
   ]
  },
  {
   "cell_type": "code",
   "execution_count": 123,
   "metadata": {},
   "outputs": [],
   "source": [
    "test['SalePrice_predicted']= Y_pred\n",
    "sample=test[['Id','SalePrice_predicted']]\n",
    "sample.to_csv(\"solution.csv\")"
   ]
  },
  {
   "cell_type": "code",
   "execution_count": 124,
   "metadata": {},
   "outputs": [
    {
     "data": {
      "text/html": [
       "<div>\n",
       "<style scoped>\n",
       "    .dataframe tbody tr th:only-of-type {\n",
       "        vertical-align: middle;\n",
       "    }\n",
       "\n",
       "    .dataframe tbody tr th {\n",
       "        vertical-align: top;\n",
       "    }\n",
       "\n",
       "    .dataframe thead th {\n",
       "        text-align: right;\n",
       "    }\n",
       "</style>\n",
       "<table border=\"1\" class=\"dataframe\">\n",
       "  <thead>\n",
       "    <tr style=\"text-align: right;\">\n",
       "      <th></th>\n",
       "      <th>Id</th>\n",
       "      <th>SalePrice_predicted</th>\n",
       "    </tr>\n",
       "  </thead>\n",
       "  <tbody>\n",
       "    <tr>\n",
       "      <th>0</th>\n",
       "      <td>1461</td>\n",
       "      <td>107346.213457</td>\n",
       "    </tr>\n",
       "    <tr>\n",
       "      <th>1</th>\n",
       "      <td>1462</td>\n",
       "      <td>139872.335735</td>\n",
       "    </tr>\n",
       "    <tr>\n",
       "      <th>2</th>\n",
       "      <td>1463</td>\n",
       "      <td>160915.946491</td>\n",
       "    </tr>\n",
       "    <tr>\n",
       "      <th>3</th>\n",
       "      <td>1464</td>\n",
       "      <td>181580.902952</td>\n",
       "    </tr>\n",
       "    <tr>\n",
       "      <th>4</th>\n",
       "      <td>1465</td>\n",
       "      <td>185431.667274</td>\n",
       "    </tr>\n",
       "    <tr>\n",
       "      <th>...</th>\n",
       "      <td>...</td>\n",
       "      <td>...</td>\n",
       "    </tr>\n",
       "    <tr>\n",
       "      <th>1454</th>\n",
       "      <td>2915</td>\n",
       "      <td>56616.744980</td>\n",
       "    </tr>\n",
       "    <tr>\n",
       "      <th>1455</th>\n",
       "      <td>2916</td>\n",
       "      <td>76049.008699</td>\n",
       "    </tr>\n",
       "    <tr>\n",
       "      <th>1456</th>\n",
       "      <td>2917</td>\n",
       "      <td>160076.504482</td>\n",
       "    </tr>\n",
       "    <tr>\n",
       "      <th>1457</th>\n",
       "      <td>2918</td>\n",
       "      <td>93006.257896</td>\n",
       "    </tr>\n",
       "    <tr>\n",
       "      <th>1458</th>\n",
       "      <td>2919</td>\n",
       "      <td>221757.890671</td>\n",
       "    </tr>\n",
       "  </tbody>\n",
       "</table>\n",
       "<p>1447 rows × 2 columns</p>\n",
       "</div>"
      ],
      "text/plain": [
       "        Id  SalePrice_predicted\n",
       "0     1461        107346.213457\n",
       "1     1462        139872.335735\n",
       "2     1463        160915.946491\n",
       "3     1464        181580.902952\n",
       "4     1465        185431.667274\n",
       "...    ...                  ...\n",
       "1454  2915         56616.744980\n",
       "1455  2916         76049.008699\n",
       "1456  2917        160076.504482\n",
       "1457  2918         93006.257896\n",
       "1458  2919        221757.890671\n",
       "\n",
       "[1447 rows x 2 columns]"
      ]
     },
     "execution_count": 124,
     "metadata": {},
     "output_type": "execute_result"
    }
   ],
   "source": [
    "sample"
   ]
  },
  {
   "cell_type": "code",
   "execution_count": null,
   "metadata": {},
   "outputs": [],
   "source": []
  }
 ],
 "metadata": {
  "kernelspec": {
   "display_name": "Python 3",
   "language": "python",
   "name": "python3"
  },
  "language_info": {
   "codemirror_mode": {
    "name": "ipython",
    "version": 3
   },
   "file_extension": ".py",
   "mimetype": "text/x-python",
   "name": "python",
   "nbconvert_exporter": "python",
   "pygments_lexer": "ipython3",
   "version": "3.7.10"
  }
 },
 "nbformat": 4,
 "nbformat_minor": 4
}
